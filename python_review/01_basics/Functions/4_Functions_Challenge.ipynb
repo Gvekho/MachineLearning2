{
 "cells": [
  {
   "attachments": {},
   "cell_type": "markdown",
   "metadata": {},
   "source": [
    "# Challenge"
   ]
  },
  {
   "attachments": {},
   "cell_type": "markdown",
   "metadata": {},
   "source": [
    "## Instructions "
   ]
  },
  {
   "attachments": {},
   "cell_type": "markdown",
   "metadata": {},
   "source": [
    "For this assignment you'll be working through solving more problems, but this time by building functions from scratch. \n",
    "\n",
    "\n",
    "For each problem, you should build a function into your solution. We will build each function into it's own cell, and then call it with some arguments in the next cell right after you define it. "
   ]
  },
  {
   "attachments": {},
   "cell_type": "markdown",
   "metadata": {},
   "source": [
    "For example, pretend all of the following is the solution to one of the problems, written in a function first and then called (for testing purposes) below. \n",
    "\n",
    "```python \n",
    "def my_func(param1, param2, param3): \n",
    "    # Function code to solve the problem\n",
    "\n",
    "print(my_func(param11, param21, param31))\n",
    "print(my_func(param12, param22, param32))\n",
    "print(my_func(param13, param23, param33))\n",
    "print(my_func(param14, param24, param34))\n",
    "print(my_func(param15, param25, param35))\n",
    "```\n",
    "\n",
    "Note above that `my_func` is called five times after it's definition. \n",
    "\n",
    "\n",
    "These tests should check that `my_func` works correctly with different sets of arguments. You should aim to test your functions at least 5 times after you write them. It's good to try to think of tests that your function might not solve correctly (we call these **edge cases**). Not only does thinking like this help you solve the problem, but it also gives you more faith in your solution."
   ]
  },
  {
   "attachments": {},
   "cell_type": "markdown",
   "metadata": {},
   "source": [
    "## Assignment Questions "
   ]
  },
  {
   "attachments": {},
   "cell_type": "markdown",
   "metadata": {},
   "source": [
    "### Part 1 - Basic Practice "
   ]
  },
  {
   "attachments": {},
   "cell_type": "markdown",
   "metadata": {},
   "source": [
    "For the first part of the assignment, we're going to get some practice taking something we've already written and translating it to a function. In continuation of prior assignments, \n",
    "\n",
    "1. Write a function that computes the factorial for an inputted number.  \n"
   ]
  },
  {
   "cell_type": "code",
   "execution_count": 1,
   "metadata": {},
   "outputs": [],
   "source": [
    "def factorial(n):\n",
    "    return 1 if n <2 else n*factorial(n-1)"
   ]
  },
  {
   "cell_type": "code",
   "execution_count": null,
   "metadata": {},
   "outputs": [],
   "source": [
    "factorial(3)"
   ]
  },
  {
   "cell_type": "code",
   "execution_count": null,
   "metadata": {},
   "outputs": [],
   "source": [
    "l = [factorial(n) for n in range(20) if n%2==1]\n",
    "print(l)"
   ]
  },
  {
   "cell_type": "markdown",
   "metadata": {},
   "source": [
    "\n",
    "2. Write a function that determines whether or not an inputted number is prime, and then prints 'The number you inputted is a prime/ not a prime number.' depending on what your script finds (note that this means putting a `print` in front of the function when testing it will be redundant for this case). \n",
    "\n"
   ]
  },
  {
   "cell_type": "code",
   "execution_count": 7,
   "metadata": {},
   "outputs": [],
   "source": [
    "def is_prime(number):\n",
    "    if number < 2:\n",
    "        return False\n",
    "    if number == 2:\n",
    "        return True\n",
    "    if number % 2 == 0:\n",
    "        return False\n",
    "    for i in range(3, int(number ** 0.5) + 1, 2):\n",
    "        if number % i == 0:\n",
    "            return False\n",
    "    return True\n",
    "\n",
    "def check_and_print_prime(number):\n",
    "    if is_prime(number):\n",
    "        print(f\"The number {number} you inputted is a prime number.\")\n",
    "    else:\n",
    "        print(f\"The number {number} you inputted is not a prime number.\")\n"
   ]
  },
  {
   "cell_type": "code",
   "execution_count": null,
   "metadata": {},
   "outputs": [],
   "source": [
    "check_and_print_prime(23)"
   ]
  },
  {
   "attachments": {},
   "cell_type": "markdown",
   "metadata": {},
   "source": [
    "### Part 2 - Advanced Practice \n",
    "\n"
   ]
  },
  {
   "attachments": {},
   "cell_type": "markdown",
   "metadata": {},
   "source": [
    "Now we're going to push our problem solving and programming skills even further by coding up functions to solve new problems. For each of the problems below, I would suggest coding it up in a similar way to how you did the other two (building the function, and then calling it some number of times (5) to test it out after that). \n",
    "\n",
    "1. Write a function that counts the number of words in an inputted string, where we consider words to be separated by spaces. \n"
   ]
  },
  {
   "cell_type": "code",
   "execution_count": 10,
   "metadata": {},
   "outputs": [],
   "source": [
    "def word_counter(str):\n",
    "    return len(str.split())"
   ]
  },
  {
   "cell_type": "code",
   "execution_count": null,
   "metadata": {},
   "outputs": [],
   "source": [
    "my_str = \"This is the first sentence.\"\n",
    "word_counter(my_str)"
   ]
  },
  {
   "cell_type": "code",
   "execution_count": null,
   "metadata": {},
   "outputs": [],
   "source": [
    "my_str.split()"
   ]
  },
  {
   "cell_type": "markdown",
   "metadata": {},
   "source": [
    "\n",
    "2. Write a function that counts the number of words in an inputted string, where we consider words to be separated by a specified delimiter (so your function should accept two arguments, one for the string and one for the delimiter) and a space is defined as the default delimiter.  \n"
   ]
  },
  {
   "cell_type": "code",
   "execution_count": 14,
   "metadata": {},
   "outputs": [],
   "source": [
    "def word_count_alt(str, delimiter=' '):\n",
    "    words = str.split(delimiter)\n",
    "    return len(words)"
   ]
  },
  {
   "cell_type": "code",
   "execution_count": null,
   "metadata": {},
   "outputs": [],
   "source": [
    "word_count_alt(my_str)"
   ]
  },
  {
   "cell_type": "code",
   "execution_count": null,
   "metadata": {},
   "outputs": [],
   "source": [
    "my_str_2 = \"This,life,is,not,easy\"\n",
    "word_count_alt(my_str_2, ',')"
   ]
  },
  {
   "cell_type": "code",
   "execution_count": null,
   "metadata": {},
   "outputs": [],
   "source": [
    "l = my_str_2.split(',')\n",
    "l"
   ]
  },
  {
   "cell_type": "code",
   "execution_count": null,
   "metadata": {},
   "outputs": [],
   "source": [
    "for word in l:\n",
    "    print(word)"
   ]
  },
  {
   "cell_type": "markdown",
   "metadata": {},
   "source": [
    "3. Write a function that takes in a string, and returns a list that holds the length of each word in the phrase, separated by an inputted delimiter (so you're function should accept two arguments again). Make a space the default delimiter like you did in `2`. For example, if the arguments to your function were `This is a test string` (and nothing else), your function should return `[4, 2, 1, 4, 6]`. Go ahead and don't worry about removing punctuation (you can include it in the word length - e.g. \"this.\" has five letters, if we count the period). \n"
   ]
  },
  {
   "cell_type": "code",
   "execution_count": 23,
   "metadata": {},
   "outputs": [],
   "source": [
    "def word_letters_number(str, delimiter=' '):\n",
    "    words = str.split(delimiter)\n",
    "    for word in words:\n",
    "        print(len(word))"
   ]
  },
  {
   "cell_type": "code",
   "execution_count": null,
   "metadata": {},
   "outputs": [],
   "source": [
    "word_letters_number(my_str_2, ',')"
   ]
  },
  {
   "cell_type": "markdown",
   "metadata": {},
   "source": [
    "4. Write a function that returns all the prime numbers up to an inputted number (**Hint**: It might be helpful to use/modify the prime function you wrote earlier).   \n"
   ]
  },
  {
   "cell_type": "code",
   "execution_count": 26,
   "metadata": {},
   "outputs": [],
   "source": [
    "def is_prime(number):\n",
    "    if number < 2:\n",
    "        return False\n",
    "    if number == 2:\n",
    "        return True\n",
    "    if number % 2 == 0:\n",
    "        return False\n",
    "    for i in range(3, int(number ** 0.5) + 1, 2):\n",
    "        if number % i == 0:\n",
    "            return False\n",
    "    return True\n",
    "\n",
    "def all_prime(n):\n",
    "    all_primes = []\n",
    "    for x in range(n+1):\n",
    "        if is_prime(x)==True:\n",
    "            all_primes.append(x)\n",
    "    print(all_primes)"
   ]
  },
  {
   "cell_type": "code",
   "execution_count": null,
   "metadata": {},
   "outputs": [],
   "source": [
    "all_prime(100)"
   ]
  },
  {
   "cell_type": "markdown",
   "metadata": {},
   "source": [
    " \n",
    "5. Write a function that takes in a list of numbers, as well as an additional number (i.e. two arguments), and returns a list of `yes` or `no` depending on whether each number in the list is divisible by the second number. For example, if I input `[10, 25, 36, 12, 20]` as the list of numbers, and `5` as the additional number, your function should return `['yes', 'yes', 'no', 'no', 'yes']`.\n"
   ]
  },
  {
   "cell_type": "code",
   "execution_count": 40,
   "metadata": {},
   "outputs": [],
   "source": [
    "def fncs(list_in,number):\n",
    "    list_out=[]\n",
    "    for x in list_in:\n",
    "        if x%number==0:\n",
    "            list_out.append('yes')\n",
    "        else:\n",
    "            list_out.append('no')\n",
    "    print(list_out)"
   ]
  },
  {
   "cell_type": "code",
   "execution_count": null,
   "metadata": {},
   "outputs": [],
   "source": [
    "my_list = [4,44,5,18,33,55]\n",
    "fncs(my_list, 5)"
   ]
  },
  {
   "cell_type": "markdown",
   "metadata": {},
   "source": [
    "6. Write a function that takes in a list of strings, as well as an inputted letter (which looks like a string with a single character), and returns a list of only those strings from the input list that end with that letter. For example, if I input `['I', 'am', 'in', 'love', 'with', 'Python']` as the list of strings, and `n` as the inputted letter, your function should return `['in', 'Python']`.\n"
   ]
  },
  {
   "cell_type": "code",
   "execution_count": 65,
   "metadata": {},
   "outputs": [],
   "source": [
    "def find_letter(str_list, letter=''):\n",
    "    words_with_letter = []\n",
    "    for word in str_list:\n",
    "        word = word.lower()\n",
    "        if letter in list(word):\n",
    "            words_with_letter.append(word)\n",
    "    print(words_with_letter)"
   ]
  },
  {
   "cell_type": "code",
   "execution_count": null,
   "metadata": {},
   "outputs": [],
   "source": [
    "list_to_check = ['I', 'am', 'in', 'love', 'with', 'Python']\n",
    "find_letter(list_to_check, 'p')"
   ]
  },
  {
   "cell_type": "code",
   "execution_count": null,
   "metadata": {},
   "outputs": [],
   "source": [
    "word = 'hello '\n",
    "list(word.strip())"
   ]
  },
  {
   "cell_type": "markdown",
   "metadata": {},
   "source": [
    "7. Write a function that takes in a list of strings, as well as an inputted substring (i.e. another string), and returns a list of the indices of the strings that contain that inputted substring. For example, if I input `['This', 'is', 'an' , 'example']` as the list of strings, and `is` as the substring, your function should return `[0, 1]`.\n",
    "\n",
    " "
   ]
  },
  {
   "cell_type": "code",
   "execution_count": 71,
   "metadata": {},
   "outputs": [],
   "source": [
    "def find_strings_with_substring(string_list, substring):\n",
    "    indices = []\n",
    "    for index, string in enumerate(string_list):\n",
    "        if substring in string:\n",
    "            indices.append(index)\n",
    "    return indices\n"
   ]
  },
  {
   "cell_type": "code",
   "execution_count": null,
   "metadata": {},
   "outputs": [],
   "source": [
    "str=['This', 'is', 'an' , 'example']\n",
    "find_strings_with_substring(str, 'an')"
   ]
  },
  {
   "cell_type": "code",
   "execution_count": 73,
   "metadata": {},
   "outputs": [],
   "source": [
    "def fibonacci(n):\n",
    "    return 0 if n<1 else 1 if n<2 else fibonacci(n-2)+fibonacci(n-1)"
   ]
  },
  {
   "cell_type": "code",
   "execution_count": null,
   "metadata": {},
   "outputs": [],
   "source": [
    "fibonacci_numbers = [fibonacci(n) for n in range(10)]\n",
    "fibonacci_numbers"
   ]
  },
  {
   "attachments": {},
   "cell_type": "markdown",
   "metadata": {},
   "source": [
    "### Extra Challenge\n",
    "\n",
    "1. Let's build a calculator for figuring out how much I owe in taxes (and by calculator, I mean function). Write a function that takes in a list of tuples, where each tuple contains two values, as well as an income to compute the taxes on (so your function should accept two arguments). For the tuple list, the first value of a tuple will be an income upper bound, and the second will be a tax rate for all income up to the given income bound. You need to build a calculator that will calculate the tax for all income up to each income bound (if it goes up that high) for the given tax rate. You can assume that the list of tuples will be sorted by the income bound (e.g. the first value in the tuple), such that the lowest income bound will be first, and the highest last (see below for an example).  \n",
    "\n",
    " As an example, let's say my tax info is `[(50000, 0.08), (100000, 0.10), (150000, 0.15)]`. This means that the first 50k of income is taxed at 8%, the second 50k at 10%, and the rest at 15% (note here that any income that comes after the 150k is taxed at 15%. Therefore, giving a highest upper bound is misleading because everything above 100k will be taxed at 15%). So, if the inputted income was 170k, then my taxes would be \n",
    " \n",
    " 50 * 0.08 + 50 * 0.10 + 70 * 0.15 = 19.5k. \n",
    " \n",
    " And if the inputted income was 70k, then my taxes would be\n",
    "\n",
    " \n",
    " 50 * 0.08 + 20 * 0.10 = 6k. \n",
    " \n",
    " You should write your function to be generalized and accept any kind of list of tuples and any inputted income (so it'll accept two arguments).  \n",
    "\n",
    "2. Now modify your solution to accept a list of tuples that is not sorted by the income bound. \n",
    "\n",
    " **Hint**: Trying using the `sorted` function and working with the `key` argument (a [lambda](https://www.educative.io/blog/python-lambda-functions-tutorial) function will probably be helpful here). "
   ]
  },
  {
   "cell_type": "markdown",
   "metadata": {},
   "source": []
  }
 ],
 "metadata": {
  "kernelspec": {
   "display_name": ".venv",
   "language": "python",
   "name": "python3"
  },
  "language_info": {
   "codemirror_mode": {
    "name": "ipython",
    "version": 3
   },
   "file_extension": ".py",
   "mimetype": "text/x-python",
   "name": "python",
   "nbconvert_exporter": "python",
   "pygments_lexer": "ipython3",
   "version": "3.11.3"
  },
  "toc": {
   "base_numbering": 1,
   "nav_menu": {},
   "number_sections": true,
   "sideBar": true,
   "skip_h1_title": false,
   "title_cell": "Table of Contents",
   "title_sidebar": "Contents",
   "toc_cell": false,
   "toc_position": {},
   "toc_section_display": true,
   "toc_window_display": false
  },
  "varInspector": {
   "cols": {
    "lenName": 16,
    "lenType": 16,
    "lenVar": 40
   },
   "kernels_config": {
    "python": {
     "delete_cmd_postfix": "",
     "delete_cmd_prefix": "del ",
     "library": "var_list.py",
     "varRefreshCmd": "print(var_dic_list())"
    },
    "r": {
     "delete_cmd_postfix": ") ",
     "delete_cmd_prefix": "rm(",
     "library": "var_list.r",
     "varRefreshCmd": "cat(var_dic_list()) "
    }
   },
   "types_to_exclude": [
    "module",
    "function",
    "builtin_function_or_method",
    "instance",
    "_Feature"
   ],
   "window_display": false
  },
  "vscode": {
   "interpreter": {
    "hash": "be7dd07ef673f1c542ac4f7690ce2e5f650b2bc66c3cbf4a3f66e2fce72bd812"
   }
  }
 },
 "nbformat": 4,
 "nbformat_minor": 4
}
