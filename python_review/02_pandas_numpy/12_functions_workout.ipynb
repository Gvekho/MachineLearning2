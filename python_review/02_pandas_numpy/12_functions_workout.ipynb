{
 "cells": [
  {
   "cell_type": "code",
   "execution_count": 1,
   "metadata": {},
   "outputs": [],
   "source": [
    "import numpy as np"
   ]
  },
  {
   "cell_type": "markdown",
   "metadata": {},
   "source": [
    "### Palindrom"
   ]
  },
  {
   "cell_type": "code",
   "execution_count": null,
   "metadata": {},
   "outputs": [],
   "source": [
    "def check_palindrom(str):\n",
    "    if str[::-1]==str:\n",
    "        print(f'The word is palindrom')\n",
    "    else:\n",
    "        print('The word is not palindrom')\n",
    "\n",
    "check_palindrom('madam')"
   ]
  },
  {
   "cell_type": "markdown",
   "metadata": {},
   "source": [
    "### Factorial"
   ]
  },
  {
   "cell_type": "code",
   "execution_count": null,
   "metadata": {},
   "outputs": [],
   "source": [
    "def factorial(n):\n",
    "    return 1 if n<2 else n*factorial(n-1)\n",
    "\n",
    "factorial(5)"
   ]
  },
  {
   "cell_type": "code",
   "execution_count": null,
   "metadata": {},
   "outputs": [],
   "source": [
    "def factorial_list(n):\n",
    "    fact_list = [1]\n",
    "    factorial = 1\n",
    "    for i in range(1,n+1):\n",
    "        factorial *= i\n",
    "        fact_list.append(factorial)\n",
    "    return fact_list\n",
    "\n",
    "factorial_list(10)\n"
   ]
  },
  {
   "cell_type": "markdown",
   "metadata": {},
   "source": [
    "### Fibonacci"
   ]
  },
  {
   "cell_type": "code",
   "execution_count": null,
   "metadata": {},
   "outputs": [],
   "source": [
    "def fibonacci_list(n):\n",
    "    fibon_list = [0, 1]\n",
    "    fibon = 1\n",
    "    for i in range(2, n):\n",
    "        fibon = fibon_list[i - 1] + fibon_list[i - 2]\n",
    "        fibon_list.append(fibon)\n",
    "    return fibon_list\n",
    "\n",
    "print(fibonacci_list(5))\n"
   ]
  },
  {
   "cell_type": "code",
   "execution_count": null,
   "metadata": {},
   "outputs": [],
   "source": [
    "def largest_element(list):\n",
    "    return  max(list)\n",
    "    \n",
    "\n",
    "L = [5, 6, -3, 15]\n",
    "largest_element(L)\n"
   ]
  },
  {
   "cell_type": "code",
   "execution_count": null,
   "metadata": {},
   "outputs": [],
   "source": [
    "def reverse_str(str):\n",
    "    return str[::-1]\n",
    "    \n",
    "\n",
    "reverse_str('Hello, dear')"
   ]
  },
  {
   "cell_type": "code",
   "execution_count": null,
   "metadata": {},
   "outputs": [],
   "source": [
    "def count_frequency(numbers):\n",
    "    frequency={}\n",
    "    for num in numbers:\n",
    "        if num in frequency:\n",
    "            frequency[num]+=1\n",
    "        else:\n",
    "            frequency[num]=1\n",
    "    return frequency\n",
    "\n",
    "L = [5, 5, 8, 0, 4, 5, 8]\n",
    "count_frequency(L)\n"
   ]
  },
  {
   "cell_type": "code",
   "execution_count": null,
   "metadata": {},
   "outputs": [],
   "source": [
    "def is_prime(n):\n",
    "    if n < 2:\n",
    "        return False\n",
    "    for i in range(2, int(np.sqrt(n))+1):\n",
    "        if n%i==0:\n",
    "            return False\n",
    "    return True\n",
    "\n",
    "is_prime(23)"
   ]
  },
  {
   "cell_type": "code",
   "execution_count": null,
   "metadata": {},
   "outputs": [],
   "source": [
    "def common_element(list1, list2):\n",
    "    comm_elements = []\n",
    "    for item in list1:\n",
    "        if item in list2:\n",
    "            comm_elements.append(item)\n",
    "    return comm_elements\n",
    "\n",
    "L = [2, 4, 'bar', 24, 'chicken']\n",
    "M = [2, 5, 'bar', 'yellow']\n",
    "common_element(L,M)\n"
   ]
  },
  {
   "cell_type": "code",
   "execution_count": null,
   "metadata": {},
   "outputs": [],
   "source": [
    "def bubble_sort(elements):\n",
    "    n = len(elements)\n",
    "    for i in range(n - 1):\n",
    "        for j in range(n - i - 1):\n",
    "            if elements[j] > elements[j + 1]:\n",
    "                elements[j], elements[j + 1] = elements[j + 1], elements[j]\n",
    "\n",
    "# Test the function\n",
    "nums = [5, 2, 8, 1, 9]\n",
    "bubble_sort(nums)\n",
    "print(nums)"
   ]
  },
  {
   "cell_type": "code",
   "execution_count": null,
   "metadata": {},
   "outputs": [],
   "source": [
    "def find_second_largest(numbers):\n",
    "    largest = float('-inf')\n",
    "    second_largest = float('-inf')\n",
    "    for num in numbers:\n",
    "        if num > largest:\n",
    "            second_largest = largest\n",
    "            largest = num\n",
    "        elif num > second_largest and num != largest:\n",
    "            second_largest = num\n",
    "    return second_largest\n",
    "\n",
    "# Test the function\n",
    "nums = [10, 5, 8, 20, 3]\n",
    "second_largest_num = find_second_largest(nums)\n",
    "print(f\"The second largest number is {second_largest_num}\")"
   ]
  },
  {
   "cell_type": "code",
   "execution_count": null,
   "metadata": {},
   "outputs": [],
   "source": [
    "def find_second_largest_alt(numbers):\n",
    "    x = max(numbers)\n",
    "    numbers_alt = numbers.copy()  \n",
    "    numbers_alt.remove(x)          \n",
    "    return max(numbers_alt)\n",
    "\n",
    "\n",
    "print(find_second_largest_alt(nums))"
   ]
  },
  {
   "cell_type": "code",
   "execution_count": null,
   "metadata": {},
   "outputs": [],
   "source": [
    "def find_second_largest_alt_alt(numbers):\n",
    "    numbers_alt = numbers.copy()\n",
    "    numbers_alt.remove(max(numbers))\n",
    "    return max(numbers_alt)\n",
    "find_second_largest_alt_alt(nums)"
   ]
  },
  {
   "cell_type": "code",
   "execution_count": null,
   "metadata": {},
   "outputs": [],
   "source": [
    "def remove_duplicates(numbers):\n",
    "    unique_numbers = []\n",
    "    for num in numbers:\n",
    "        if num not in unique_numbers:\n",
    "            unique_numbers.append(num)\n",
    "    return unique_numbers\n",
    "\n",
    "# Test the function\n",
    "nums = [1, 2, 3, 2, 1, 3, 2, 4, 5, 4]\n",
    "unique_nums = remove_duplicates(nums)\n",
    "print(unique_nums)"
   ]
  },
  {
   "cell_type": "code",
   "execution_count": null,
   "metadata": {},
   "outputs": [],
   "source": [
    "def bs(a):\n",
    "    # Bubble Sort algorithm\n",
    "    n = len(a)\n",
    "    for i in range(n):\n",
    "        for j in range(0, n - i - 1):\n",
    "            if a[j] > a[j + 1]:\n",
    "                # Swap elements if they are in the wrong order\n",
    "                a[j], a[j + 1] = a[j + 1], a[j]\n",
    "    return a\n",
    "\n",
    "# Test the Bubble Sort function\n",
    "arr = [32, 5, 3, 6, 7, 54, 87]\n",
    "sorted_arr = bs(arr)\n",
    "print(sorted_arr)"
   ]
  },
  {
   "cell_type": "code",
   "execution_count": null,
   "metadata": {},
   "outputs": [],
   "source": [
    "def pyfunc(r):\n",
    "    for x in range(r):\n",
    "        print(' '*(r-x-1)+'*'*(2*x+1))    \n",
    "pyfunc(9)\n"
   ]
  },
  {
   "cell_type": "code",
   "execution_count": null,
   "metadata": {},
   "outputs": [],
   "source": [
    "print(' '*(9-0-1)+'*'*(2*0+1)) \n",
    "print(' '*(9-1-1)+'*'*(2*1+1)) \n",
    "print(' '*(9-8-1)+'*'*(2*8+1)) "
   ]
  },
  {
   "cell_type": "code",
   "execution_count": null,
   "metadata": {},
   "outputs": [],
   "source": [
    "A0 = dict(zip(('a','b','c','d','e'),(1,2,3,4,5)))\n",
    "\n",
    "A1 = range(10)\n",
    "A2 = sorted([i for i in A1 if i in A0])\n",
    "A3 = sorted([A0[s] for s in A0])\n",
    "A4 = [i for i in A1 if i in A3]\n",
    "A5 = {i:i*i for i in A1}\n",
    "A6 = [[i,i*i] for i in A1]\n",
    "print(A0,A1,A2,A3,A4,A5,A6)"
   ]
  },
  {
   "cell_type": "code",
   "execution_count": null,
   "metadata": {},
   "outputs": [],
   "source": [
    "# Monkey patching in Python is a dynamic technique that can change the behavior of the code at run-time. \n",
    "# In short, you can modify a class or module at run-time.\n",
    "class monkey:\n",
    "    def patch(self):\n",
    "          print (\"patch() is being called\")\n",
    "\n",
    "def monk_p(self):\n",
    "    print (\"monk_p() is being called\")\n",
    "\n",
    "# replacing address of \"patch\" with \"monk_p\"\n",
    "monkey.patch = monk_p\n",
    "\n",
    "obj = monkey()\n",
    "\n",
    "obj.patch()\n",
    "# monk_p() is being called"
   ]
  },
  {
   "cell_type": "code",
   "execution_count": null,
   "metadata": {},
   "outputs": [],
   "source": [
    "try:\n",
    "    num1 = int(input('Enter Numerator: '))\n",
    "    num2 = int(input('Enter Denominator: '))\n",
    "    division = num1/num2\n",
    "    print(f'Result is: {division}')\n",
    "except:\n",
    "    print('Invalid input!')\n",
    "else:\n",
    "    print('Division is successful.')"
   ]
  },
  {
   "cell_type": "code",
   "execution_count": null,
   "metadata": {},
   "outputs": [],
   "source": [
    "def str_replace(text,ch):\n",
    "    result = ''\n",
    "    for i in text: \n",
    "            if i == ' ': \n",
    "                i = ch  \n",
    "            result += i \n",
    "    return result\n",
    "\n",
    "text = \"D t C mpBl ckFrid yS le\"\n",
    "ch = \"a\"\n",
    "\n",
    "str_replace(text,ch)\n"
   ]
  },
  {
   "cell_type": "code",
   "execution_count": null,
   "metadata": {},
   "outputs": [],
   "source": [
    "def perfect_sqrt(x):\n",
    "    \n",
    "    if x<0:\n",
    "        print(f'Invelid Input')\n",
    "    else:\n",
    "        if np.sqrt(x)%1==0:\n",
    "            return True\n",
    "        return False\n",
    "\n",
    "number = int(input(f'Enter your number:'))\n",
    "perfect_sqrt(number)\n",
    "\n"
   ]
  },
  {
   "cell_type": "code",
   "execution_count": null,
   "metadata": {},
   "outputs": [],
   "source": [
    "# Trailing zeros in (n!)\n",
    "\n",
    "def fact_integer(n):\n",
    "    return 1 if n<2 else n*fact_integer(n-1)\n",
    "\n",
    "number = int(input('Enter positive integer:'))\n",
    "string = str(fact_integer(number))\n",
    "\n",
    "def trailing_zeros(string):\n",
    "    zeros = 0 \n",
    "    for i in string[::-1]:\n",
    "        if i=='0':\n",
    "            zeros+=1\n",
    "        else:\n",
    "            break\n",
    "    return zeros\n",
    "\n",
    "\n",
    "print('Factorial of your choice is:', fact_integer(number))\n",
    "print('The number of trailing zeros is:', trailing_zeros(string))\n",
    "\n"
   ]
  }
 ],
 "metadata": {
  "kernelspec": {
   "display_name": ".venv",
   "language": "python",
   "name": "python3"
  },
  "language_info": {
   "codemirror_mode": {
    "name": "ipython",
    "version": 3
   },
   "file_extension": ".py",
   "mimetype": "text/x-python",
   "name": "python",
   "nbconvert_exporter": "python",
   "pygments_lexer": "ipython3",
   "version": "3.11.3"
  }
 },
 "nbformat": 4,
 "nbformat_minor": 2
}
